{
 "cells": [
  {
   "cell_type": "code",
   "execution_count": 36,
   "id": "bc8541b0",
   "metadata": {},
   "outputs": [],
   "source": [
    "import yfinance as yf\n",
    "import numpy as np\n",
    "import matplotlib.pyplot as plt"
   ]
  },
  {
   "cell_type": "code",
   "execution_count": 116,
   "id": "fc98ad44",
   "metadata": {},
   "outputs": [
    {
     "name": "stdout",
     "output_type": "stream",
     "text": [
      "[*********************100%***********************]  2 of 2 completed\n"
     ]
    }
   ],
   "source": [
    "#Extracting stock data into a dataframe\n",
    "#Note: solution is scalable for more than two tickers!\n",
    "df = yf.download(['AAPL','CAT'],start=\"2016-01-01\",end=\"2021-07-10\")"
   ]
  },
  {
   "cell_type": "code",
   "execution_count": 117,
   "id": "b1df8421",
   "metadata": {
    "scrolled": true
   },
   "outputs": [],
   "source": [
    "#Normalizing the data and calculating returns based on adjusted close prices\n",
    "df = np.log(1+df['Adj Close'].pct_change())"
   ]
  },
  {
   "cell_type": "code",
   "execution_count": 132,
   "id": "7c5697e5",
   "metadata": {},
   "outputs": [],
   "source": [
    "#Calculating Portfolio reuturn using simple solution, weights*average return\n",
    "weights = [0.5,0.5]\n",
    "Preturn = weights[0]*df.AAPL.mean() + weights[1]*df.CAT.mean()"
   ]
  },
  {
   "cell_type": "code",
   "execution_count": 126,
   "id": "0025c748",
   "metadata": {},
   "outputs": [],
   "source": [
    "#Building scalable solution using dot product via a function\n",
    "def portfolioreturn(weights):\n",
    "    return np.dot(df.mean(),weights)"
   ]
  },
  {
   "cell_type": "code",
   "execution_count": 127,
   "id": "83c7ea24",
   "metadata": {
    "scrolled": true
   },
   "outputs": [],
   "source": [
    "#Calcultaing Portfolio Variance using simple solution\n",
    "pv = weights[0]**2*df.cov().iloc[0,0]+weights[1]**2*df.cov().iloc[1,1]+2*weights[0]*weights[1]*df.cov().iloc[0,1]\n",
    "std = pv**(1/2)**np.sqrt(250)"
   ]
  },
  {
   "cell_type": "code",
   "execution_count": 128,
   "id": "1f4d4af1",
   "metadata": {},
   "outputs": [],
   "source": [
    "#CHECK ALGEBRA ON PAPER!!; building scalable solution\n",
    "#Annualize Standard deviations with np.sqrt(250), 250 trading days\n",
    "def portfoliostd(weights):\n",
    "    return ((np.dot(np.dot(df.cov(),weights),weights))**(1/2)*np.sqrt(250))"
   ]
  },
  {
   "cell_type": "code",
   "execution_count": 129,
   "id": "560b7e6d",
   "metadata": {},
   "outputs": [],
   "source": [
    "#creating random weight generator\n",
    "#solution scalable by measuring number of columns in original dataframe\n",
    "#rand /= rand/sum() ensures that the weights add up to one\n",
    "def weightcreator(df):\n",
    "    rand = np.random.random(len(df.columns))\n",
    "    rand /= rand.sum()\n",
    "    return rand"
   ]
  },
  {
   "cell_type": "code",
   "execution_count": 130,
   "id": "8c253285",
   "metadata": {},
   "outputs": [],
   "source": [
    "#creating empty lists to store different returns and standard deviations for randomly generated weights\n",
    "rtrns = []\n",
    "stds = []\n",
    "w = []\n",
    "\n",
    "#iterating 1000 random weights and storing them in empty lists\n",
    "for i in range(1000):\n",
    "    weights = weightcreator(df)\n",
    "    rtrns.append(portfolioreturn(weights))\n",
    "    stds.append(portfoliostd(weights))\n",
    "    w.append(weights)"
   ]
  },
  {
   "cell_type": "code",
   "execution_count": 131,
   "id": "c8bccfcc",
   "metadata": {},
   "outputs": [
    {
     "data": {
      "text/plain": [
       "array([0.5313783, 0.4686217])"
      ]
     },
     "execution_count": 131,
     "metadata": {},
     "output_type": "execute_result"
    },
    {
     "data": {
      "image/png": "[encoded data removed]",
      "text/plain": [
       "<Figure size 432x288 with 1 Axes>"
      ]
     },
     "metadata": {
      "needs_background": "light"
     },
     "output_type": "display_data"
    }
   ],
   "source": [
    "#Plotting Efficient Frontier\n",
    "plt.scatter(stds,rtrns)\n",
    "plt.grid()\n",
    "plt.title(\"Efficient Frontier\")\n",
    "plt.xlabel(\"Portfolio Standard Deviation\")\n",
    "plt.ylabel(\"Portfolio Return\")\n",
    "\n",
    "#Highlighting Apple and Capterpillar only Portfolios\n",
    "plt.scatter(df.std().iloc[0]*np.sqrt(250),df.mean().iloc[0], c='black')\n",
    "plt.scatter(df.std().iloc[1]*np.sqrt(250),df.mean().iloc[1], c='yellow')\n",
    "\n",
    "#Finding minimum variance portfolio on the efficient frontier\n",
    "plt.scatter(min(stds),rtrns[stds.index(min(stds))], c='red')\n",
    "\n",
    "#Finding the corresponding weights of the min variance portfolio\n",
    "w[stds.index(min(stds))]"
   ]
  },
  {
   "cell_type": "code",
   "execution_count": null,
   "id": "7641e8fc",
   "metadata": {},
   "outputs": [],
   "source": []
  },
  {
   "cell_type": "code",
   "execution_count": null,
   "id": "005666a7",
   "metadata": {},
   "outputs": [],
   "source": []
  }
 ],
 "metadata": {
  "kernelspec": {
   "display_name": "Python 3",
   "language": "python",
   "name": "python3"
  },
  "language_info": {
   "codemirror_mode": {
    "name": "ipython",
    "version": 3
   },
   "file_extension": ".py",
   "mimetype": "text/x-python",
   "name": "python",
   "nbconvert_exporter": "python",
   "pygments_lexer": "ipython3",
   "version": "3.8.8"
  }
 },
 "nbformat": 4,
 "nbformat_minor": 5
}
